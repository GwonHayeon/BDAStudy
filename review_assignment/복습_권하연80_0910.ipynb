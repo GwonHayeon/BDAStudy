{
 "cells": [
  {
   "cell_type": "markdown",
   "id": "d1a68387",
   "metadata": {},
   "source": [
    "### K-Fold Cross Validation : K겹 교차검증\n",
    "- 데이터를 K개로 분할\n",
    "- k-1개를 학습용 데이터로, 1개를 평가용 데이터로 사용\n",
    "- 이를 K번 반복하여 K개의 성능 지표를 얻어내는 방법\n",
    "<img src=\"https://imghub.insilicogen.com/media/photos/cv.png\">\n",
    "- sklearn.model_selection.cross_val_score(estimator #학습/평가할모델, X #입출력을 포함하는 데이터, y=None #타겟데이터 cv=None #K를 의미)\n",
    "\n",
    "### 언제사용하는가?\n",
    "### A. 과적합 방지"
   ]
  },
  {
   "cell_type": "code",
   "execution_count": 1,
   "id": "ca80ddd3",
   "metadata": {},
   "outputs": [
    {
     "name": "stderr",
     "output_type": "stream",
     "text": [
      "C:\\Users\\lockd\\anaconda3\\envs\\pyTest\\lib\\site-packages\\numpy\\_distributor_init.py:30: UserWarning: loaded more than 1 DLL from .libs:\n",
      "C:\\Users\\lockd\\anaconda3\\envs\\pyTest\\lib\\site-packages\\numpy\\.libs\\libopenblas.FB5AE2TYXYH2IJRDKGDGQ3XBKLKTF43H.gfortran-win_amd64.dll\n",
      "C:\\Users\\lockd\\anaconda3\\envs\\pyTest\\lib\\site-packages\\numpy\\.libs\\libopenblas64__v0.3.23-246-g3d31191b-gcc_10_3_0.dll\n",
      "  warnings.warn(\"loaded more than 1 DLL from .libs:\"\n"
     ]
    }
   ],
   "source": [
    "from sklearn.datasets import load_iris\n",
    "from sklearn.tree import DecisionTreeClassifier\n",
    "from sklearn.model_selection import train_test_split\n",
    "from sklearn.metrics import accuracy_score, precision_score, recall_score #Confusion matrix 수업 때 진행할 예정 \n",
    "from sklearn.model_selection import KFold\n",
    "from sklearn.metrics import classification_report\n",
    "from sklearn.metrics import accuracy_score \n",
    "import numpy as np\n",
    "import pandas as pd"
   ]
  },
  {
   "cell_type": "code",
   "execution_count": 2,
   "id": "239e3874",
   "metadata": {},
   "outputs": [],
   "source": [
    "### 과적합의 발생 경로 살펴보기\n",
    "fold_iris = load_iris()\n",
    "features = fold_iris.data #입출력 데이터\n",
    "label= fold_iris.target #타겟데이터"
   ]
  },
  {
   "cell_type": "code",
   "execution_count": 5,
   "id": "b3f9f6f4",
   "metadata": {},
   "outputs": [
    {
     "name": "stdout",
     "output_type": "stream",
     "text": [
      "1.0\n",
      "0.9\n"
     ]
    }
   ],
   "source": [
    "#훈련 검사 데이터 분리\n",
    "X_train, X_test, y_train, y_test = train_test_split(features, label, test_size=0.2, random_state=111)\n",
    "\n",
    "#결정트리 모델을 선택하여 학습과 예측을 진행\n",
    "model = DecisionTreeClassifier()\n",
    "model.fit(X_train, y_train) #모델학습\n",
    "pred_train = model.predict(X_train) #train 예측\n",
    "pred_test = model.predict(X_test) #test예측\n",
    "print(accuracy_score(y_train, pred_train)) #훈련데이터 정확도 \n",
    "print(accuracy_score(y_test, pred_test)) #테스트 데이터 정확도"
   ]
  },
  {
   "cell_type": "code",
   "execution_count": 9,
   "id": "c912de8d",
   "metadata": {},
   "outputs": [
    {
     "name": "stdout",
     "output_type": "stream",
     "text": [
      "0.9916666666666667\n",
      "0.9\n"
     ]
    }
   ],
   "source": [
    "#깊이를 제한한 결정트리 모델을 이용\n",
    "model_md = DecisionTreeClassifier(random_state=111, max_depth=3)\n",
    "model_md.fit(X_train, y_train)\n",
    "pred_train_md = model_md.predict(X_train)\n",
    "pred_test_md = model_md.predict(X_test)\n",
    "print(accuracy_score(y_train,pred_train_md))\n",
    "print(accuracy_score(y_test, pred_test_md))"
   ]
  },
  {
   "cell_type": "markdown",
   "id": "52043149",
   "metadata": {},
   "source": [
    "- 둘 모두 훈련데이터의 정확도가 테스트 데이터의 정확도보다 높은 과적합이 발생\n"
   ]
  },
  {
   "cell_type": "markdown",
   "id": "87d71af7",
   "metadata": {},
   "source": [
    "### 교차검증으로 과적합 해소하기"
   ]
  },
  {
   "cell_type": "code",
   "execution_count": 11,
   "id": "7493e1ab",
   "metadata": {},
   "outputs": [],
   "source": [
    "from sklearn.model_selection import KFold\n",
    "\n",
    "kfold = KFold(n_splits=5) #데이터셋 분리\n",
    "cv_accuracy_train = []\n",
    "cv_accuracy_test =[]\n",
    "kf_model = DecisionTreeClassifier(random_state=111,max_depth=3)"
   ]
  },
  {
   "cell_type": "code",
   "execution_count": 34,
   "id": "0b1ceec7",
   "metadata": {},
   "outputs": [
    {
     "name": "stdout",
     "output_type": "stream",
     "text": [
      "\n",
      "1 번 train 교차 검증 정확도: 0.975, test 교차 검증 정확도 :1.0 \n",
      "학습레이블 분포 :  Counter({1: 50, 2: 50, 0: 20}) \n",
      "검사레이블 분포 :  Counter({0: 30})\n",
      "\n",
      "2 번 train 교차 검증 정확도: 0.975, test 교차 검증 정확도 :0.9667 \n",
      "학습레이블 분포 :  Counter({2: 50, 1: 40, 0: 30}) \n",
      "검사레이블 분포 :  Counter({0: 20, 1: 10})\n",
      "\n",
      "3 번 train 교차 검증 정확도: 0.9917, test 교차 검증 정확도 :0.8333 \n",
      "학습레이블 분포 :  Counter({0: 50, 2: 50, 1: 20}) \n",
      "검사레이블 분포 :  Counter({1: 30})\n",
      "\n",
      "4 번 train 교차 검증 정확도: 0.9833, test 교차 검증 정확도 :0.9333 \n",
      "학습레이블 분포 :  Counter({0: 50, 1: 40, 2: 30}) \n",
      "검사레이블 분포 :  Counter({2: 20, 1: 10})\n",
      "\n",
      "5 번 train 교차 검증 정확도: 0.975, test 교차 검증 정확도 :0.7 \n",
      "학습레이블 분포 :  Counter({0: 50, 1: 50, 2: 20}) \n",
      "검사레이블 분포 :  Counter({2: 30})\n",
      "train 평균 정확도 0.9800000000000002\n",
      "test 평균 정확도 0.8866599999999999\n"
     ]
    }
   ],
   "source": [
    "n_iter = 0 #5번 진행하니 초기값 설정\n",
    "for train_idx, test_idx in kfold.split(features):\n",
    "    X_train, X_test = features[train_idx], features[test_idx]\n",
    "    y_train, y_test = label[train_idx], label[test_idx]\n",
    "    \n",
    "    #학습을 위해서 dt 배우기\n",
    "    kf_model.fit(X_train, y_train)\n",
    "    #예측\n",
    "    kf_pred_train = kf_model.predict(X_train)\n",
    "    kf_pred_test = kf_model.predict(X_test)\n",
    "    #정확도를 5번 측정하면서 대입\n",
    "    n_iter += 1\n",
    "    accuracy_train = np.round(accuracy_score(y_train, kf_pred_train), 4)\n",
    "    accuracy_test = np.round(accuracy_score(y_test, kf_pred_test), 4)\n",
    "    \n",
    "    print(\"\\n{} 번 train 교차 검증 정확도: {}, test 교차 검증 정확도 :{} \".format(n_iter, accuracy_train, accuracy_test))\n",
    "    print(\"학습레이블 분포 : \", collections.Counter(y_train), \"\\n검사레이블 분포 : \", collections.Counter(y_test))\n",
    "    cv_accuracy_train.append(accuracy_train)\n",
    "    cv_accuracy_test.append(accuracy_test)\n",
    "    \n",
    "print('train 평균 정확도', np.mean(cv_accuracy_train))\n",
    "print('test 평균 정확도', np.mean(cv_accuracy_test))\n"
   ]
  },
  {
   "cell_type": "markdown",
   "id": "2412692f",
   "metadata": {},
   "source": [
    "Kfold의 한계 : 랜덤 데이터 추출을해서 정답 비중에 고르게 분포하지 않을 수도 있음"
   ]
  },
  {
   "cell_type": "markdown",
   "id": "e1f325eb",
   "metadata": {},
   "source": [
    "### 교차검증 정확도가 1도 나옴\n",
    "=> 검사 레이블이 하나만 나올때도 있어서 그럼\n",
    "- 이를 해소하기위해 StratifieldKFold를 진행한다"
   ]
  },
  {
   "cell_type": "code",
   "execution_count": 35,
   "id": "b3b04ddb",
   "metadata": {},
   "outputs": [
    {
     "name": "stdout",
     "output_type": "stream",
     "text": [
      "\n",
      "1 번 train 교차 검증 정확도 :0.95 ,test 교차 검증 정확도 :0.98 \n",
      "학습레이블 분포 :  Counter({2: 34, 0: 33, 1: 33}) \n",
      "검사레이블 분포 :  Counter({0: 17, 1: 17, 2: 16})\n",
      "\n",
      "2 번 train 교차 검증 정확도 :0.99 ,test 교차 검증 정확도 :0.94 \n",
      "학습레이블 분포 :  Counter({1: 34, 0: 33, 2: 33}) \n",
      "검사레이블 분포 :  Counter({0: 17, 2: 17, 1: 16})\n",
      "\n",
      "3 번 train 교차 검증 정확도 :0.97 ,test 교차 검증 정확도 :0.96 \n",
      "학습레이블 분포 :  Counter({0: 34, 1: 33, 2: 33}) \n",
      "검사레이블 분포 :  Counter({1: 17, 2: 17, 0: 16})\n",
      "train 평균 정확도 0.9700000000000001\n",
      "test 평균 정확도 0.96\n"
     ]
    }
   ],
   "source": [
    "from sklearn.model_selection import StratifiedKFold\n",
    "\n",
    "skf_iris = StratifiedKFold(n_splits=3)\n",
    "cnt_iter=0\n",
    "n_iter=0\n",
    "\n",
    "skf_cv_accuracy_train = []\n",
    "skf_cv_accuracy_test = []\n",
    "skf_model = DecisionTreeClassifier(random_state=111, max_depth=3)\n",
    "\n",
    "for train_idx, test_idx in skf_iris.split(features, label):\n",
    "    X_train, X_test = features[train_idx], features[test_idx]\n",
    "    y_train, y_test = label[train_idx], label[test_idx]\n",
    "    \n",
    "    #학습을 위해서 dt배우기\n",
    "    skf_model.fit(X_train, y_train)\n",
    "    #예측\n",
    "    skf_pred_train = skf_model.predict(X_train)\n",
    "    skf_pred_test = skf_model.predict(X_test)\n",
    "    \n",
    "    #정확도를 5번 측정하면서 값에 넣을 것이니\n",
    "    n_iter +=1\n",
    "    accuracy_train = np.round(accuracy_score(y_train, skf_pred_train),4)\n",
    "    accuracy_test = np.round(accuracy_score(y_test, skf_pred_test),4)\n",
    "    \n",
    "    print('\\n{} 번 train 교차 검증 정확도 :{} ,test 교차 검증 정확도 :{} '.format(n_iter,accuracy_train, accuracy_test))\n",
    "    print(\"학습레이블 분포 : \", collections.Counter(y_train), \"\\n검사레이블 분포 : \", collections.Counter(y_test))\n",
    "\n",
    "    skf_cv_accuracy_train.append(accuracy_train)\n",
    "    skf_cv_accuracy_test.append(accuracy_test)\n",
    "    \n",
    "print('train 평균 정확도',np.mean(skf_cv_accuracy_train))\n",
    "print('test 평균 정확도',np.mean(skf_cv_accuracy_test))"
   ]
  },
  {
   "cell_type": "code",
   "execution_count": 28,
   "id": "c6fa2a7c",
   "metadata": {},
   "outputs": [],
   "source": [
    "### Skf 모델 진행"
   ]
  },
  {
   "cell_type": "code",
   "execution_count": null,
   "id": "015af53c",
   "metadata": {},
   "outputs": [],
   "source": []
  }
 ],
 "metadata": {
  "kernelspec": {
   "display_name": "Python 3 (ipykernel)",
   "language": "python",
   "name": "python3"
  },
  "language_info": {
   "codemirror_mode": {
    "name": "ipython",
    "version": 3
   },
   "file_extension": ".py",
   "mimetype": "text/x-python",
   "name": "python",
   "nbconvert_exporter": "python",
   "pygments_lexer": "ipython3",
   "version": "3.10.9"
  }
 },
 "nbformat": 4,
 "nbformat_minor": 5
}
