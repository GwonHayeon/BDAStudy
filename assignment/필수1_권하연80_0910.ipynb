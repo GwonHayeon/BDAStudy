{
 "cells": [
  {
   "cell_type": "code",
   "execution_count": 1,
   "id": "d95d23c5",
   "metadata": {},
   "outputs": [
    {
     "name": "stderr",
     "output_type": "stream",
     "text": [
      "C:\\Users\\lockd\\anaconda3\\envs\\pyTest\\lib\\site-packages\\numpy\\_distributor_init.py:30: UserWarning: loaded more than 1 DLL from .libs:\n",
      "C:\\Users\\lockd\\anaconda3\\envs\\pyTest\\lib\\site-packages\\numpy\\.libs\\libopenblas.FB5AE2TYXYH2IJRDKGDGQ3XBKLKTF43H.gfortran-win_amd64.dll\n",
      "C:\\Users\\lockd\\anaconda3\\envs\\pyTest\\lib\\site-packages\\numpy\\.libs\\libopenblas64__v0.3.23-246-g3d31191b-gcc_10_3_0.dll\n",
      "  warnings.warn(\"loaded more than 1 DLL from .libs:\"\n"
     ]
    }
   ],
   "source": [
    "from sklearn.datasets import load_iris\n",
    "from sklearn.tree import DecisionTreeClassifier\n",
    "from sklearn.model_selection import train_test_split\n",
    "from sklearn.metrics import accuracy_score, precision_score, recall_score #Confusion matrix\n",
    "from sklearn.model_selection import KFold\n",
    "from sklearn.metrics import classification_report\n",
    "from sklearn.metrics import accuracy_score\n",
    "import numpy as np\n",
    "import pandas as pd"
   ]
  },
  {
   "cell_type": "code",
   "execution_count": 2,
   "id": "867faa77",
   "metadata": {},
   "outputs": [],
   "source": [
    "fold_titanic = pd.read_csv(\"titanic_train.csv\")"
   ]
  },
  {
   "cell_type": "markdown",
   "id": "6222bf49",
   "metadata": {},
   "source": [
    "### 데이터 살펴보기"
   ]
  },
  {
   "cell_type": "code",
   "execution_count": 3,
   "id": "9162235f",
   "metadata": {},
   "outputs": [
    {
     "data": {
      "text/html": [
       "<div>\n",
       "<style scoped>\n",
       "    .dataframe tbody tr th:only-of-type {\n",
       "        vertical-align: middle;\n",
       "    }\n",
       "\n",
       "    .dataframe tbody tr th {\n",
       "        vertical-align: top;\n",
       "    }\n",
       "\n",
       "    .dataframe thead th {\n",
       "        text-align: right;\n",
       "    }\n",
       "</style>\n",
       "<table border=\"1\" class=\"dataframe\">\n",
       "  <thead>\n",
       "    <tr style=\"text-align: right;\">\n",
       "      <th></th>\n",
       "      <th>PassengerId</th>\n",
       "      <th>Survived</th>\n",
       "      <th>Pclass</th>\n",
       "      <th>Name</th>\n",
       "      <th>Sex</th>\n",
       "      <th>Age</th>\n",
       "      <th>SibSp</th>\n",
       "      <th>Parch</th>\n",
       "      <th>Ticket</th>\n",
       "      <th>Fare</th>\n",
       "      <th>Cabin</th>\n",
       "      <th>Embarked</th>\n",
       "    </tr>\n",
       "  </thead>\n",
       "  <tbody>\n",
       "    <tr>\n",
       "      <th>0</th>\n",
       "      <td>1</td>\n",
       "      <td>0</td>\n",
       "      <td>3</td>\n",
       "      <td>Braund, Mr. Owen Harris</td>\n",
       "      <td>male</td>\n",
       "      <td>22.0</td>\n",
       "      <td>1</td>\n",
       "      <td>0</td>\n",
       "      <td>A/5 21171</td>\n",
       "      <td>7.2500</td>\n",
       "      <td>NaN</td>\n",
       "      <td>S</td>\n",
       "    </tr>\n",
       "    <tr>\n",
       "      <th>1</th>\n",
       "      <td>2</td>\n",
       "      <td>1</td>\n",
       "      <td>1</td>\n",
       "      <td>Cumings, Mrs. John Bradley (Florence Briggs Th...</td>\n",
       "      <td>female</td>\n",
       "      <td>38.0</td>\n",
       "      <td>1</td>\n",
       "      <td>0</td>\n",
       "      <td>PC 17599</td>\n",
       "      <td>71.2833</td>\n",
       "      <td>C85</td>\n",
       "      <td>C</td>\n",
       "    </tr>\n",
       "    <tr>\n",
       "      <th>2</th>\n",
       "      <td>3</td>\n",
       "      <td>1</td>\n",
       "      <td>3</td>\n",
       "      <td>Heikkinen, Miss. Laina</td>\n",
       "      <td>female</td>\n",
       "      <td>26.0</td>\n",
       "      <td>0</td>\n",
       "      <td>0</td>\n",
       "      <td>STON/O2. 3101282</td>\n",
       "      <td>7.9250</td>\n",
       "      <td>NaN</td>\n",
       "      <td>S</td>\n",
       "    </tr>\n",
       "    <tr>\n",
       "      <th>3</th>\n",
       "      <td>4</td>\n",
       "      <td>1</td>\n",
       "      <td>1</td>\n",
       "      <td>Futrelle, Mrs. Jacques Heath (Lily May Peel)</td>\n",
       "      <td>female</td>\n",
       "      <td>35.0</td>\n",
       "      <td>1</td>\n",
       "      <td>0</td>\n",
       "      <td>113803</td>\n",
       "      <td>53.1000</td>\n",
       "      <td>C123</td>\n",
       "      <td>S</td>\n",
       "    </tr>\n",
       "    <tr>\n",
       "      <th>4</th>\n",
       "      <td>5</td>\n",
       "      <td>0</td>\n",
       "      <td>3</td>\n",
       "      <td>Allen, Mr. William Henry</td>\n",
       "      <td>male</td>\n",
       "      <td>35.0</td>\n",
       "      <td>0</td>\n",
       "      <td>0</td>\n",
       "      <td>373450</td>\n",
       "      <td>8.0500</td>\n",
       "      <td>NaN</td>\n",
       "      <td>S</td>\n",
       "    </tr>\n",
       "  </tbody>\n",
       "</table>\n",
       "</div>"
      ],
      "text/plain": [
       "   PassengerId  Survived  Pclass  \\\n",
       "0            1         0       3   \n",
       "1            2         1       1   \n",
       "2            3         1       3   \n",
       "3            4         1       1   \n",
       "4            5         0       3   \n",
       "\n",
       "                                                Name     Sex   Age  SibSp  \\\n",
       "0                            Braund, Mr. Owen Harris    male  22.0      1   \n",
       "1  Cumings, Mrs. John Bradley (Florence Briggs Th...  female  38.0      1   \n",
       "2                             Heikkinen, Miss. Laina  female  26.0      0   \n",
       "3       Futrelle, Mrs. Jacques Heath (Lily May Peel)  female  35.0      1   \n",
       "4                           Allen, Mr. William Henry    male  35.0      0   \n",
       "\n",
       "   Parch            Ticket     Fare Cabin Embarked  \n",
       "0      0         A/5 21171   7.2500   NaN        S  \n",
       "1      0          PC 17599  71.2833   C85        C  \n",
       "2      0  STON/O2. 3101282   7.9250   NaN        S  \n",
       "3      0            113803  53.1000  C123        S  \n",
       "4      0            373450   8.0500   NaN        S  "
      ]
     },
     "execution_count": 3,
     "metadata": {},
     "output_type": "execute_result"
    }
   ],
   "source": [
    "fold_titanic.head()"
   ]
  },
  {
   "cell_type": "code",
   "execution_count": 4,
   "id": "3af4810b",
   "metadata": {},
   "outputs": [
    {
     "name": "stdout",
     "output_type": "stream",
     "text": [
      "<class 'pandas.core.frame.DataFrame'>\n",
      "RangeIndex: 891 entries, 0 to 890\n",
      "Data columns (total 12 columns):\n",
      " #   Column       Non-Null Count  Dtype  \n",
      "---  ------       --------------  -----  \n",
      " 0   PassengerId  891 non-null    int64  \n",
      " 1   Survived     891 non-null    int64  \n",
      " 2   Pclass       891 non-null    int64  \n",
      " 3   Name         891 non-null    object \n",
      " 4   Sex          891 non-null    object \n",
      " 5   Age          714 non-null    float64\n",
      " 6   SibSp        891 non-null    int64  \n",
      " 7   Parch        891 non-null    int64  \n",
      " 8   Ticket       891 non-null    object \n",
      " 9   Fare         891 non-null    float64\n",
      " 10  Cabin        204 non-null    object \n",
      " 11  Embarked     889 non-null    object \n",
      "dtypes: float64(2), int64(5), object(5)\n",
      "memory usage: 83.7+ KB\n"
     ]
    }
   ],
   "source": [
    "fold_titanic.info()"
   ]
  },
  {
   "cell_type": "markdown",
   "id": "4678f843",
   "metadata": {},
   "source": [
    "* sibsp : 타이타닉호에 탑승한 형제자매/배우자 수\n",
    "* parch : 타이타닉호에 탑승한 부모/자녀 수"
   ]
  },
  {
   "cell_type": "markdown",
   "id": "5add6160",
   "metadata": {},
   "source": [
    "#### 각 컬럼 요소 살펴보기"
   ]
  },
  {
   "cell_type": "code",
   "execution_count": 5,
   "id": "7d94e024",
   "metadata": {},
   "outputs": [
    {
     "data": {
      "text/plain": [
       "array([3, 1, 2], dtype=int64)"
      ]
     },
     "execution_count": 5,
     "metadata": {},
     "output_type": "execute_result"
    }
   ],
   "source": [
    "fold_titanic['Pclass'].unique()"
   ]
  },
  {
   "cell_type": "code",
   "execution_count": 6,
   "id": "3c749cd7",
   "metadata": {},
   "outputs": [
    {
     "data": {
      "text/plain": [
       "array([1, 0, 3, 4, 2, 5, 8], dtype=int64)"
      ]
     },
     "execution_count": 6,
     "metadata": {},
     "output_type": "execute_result"
    }
   ],
   "source": [
    "fold_titanic['SibSp'].unique()"
   ]
  },
  {
   "cell_type": "code",
   "execution_count": 7,
   "id": "5aa120f6",
   "metadata": {},
   "outputs": [
    {
     "data": {
      "text/plain": [
       "array([0, 1, 2, 5, 3, 4, 6], dtype=int64)"
      ]
     },
     "execution_count": 7,
     "metadata": {},
     "output_type": "execute_result"
    }
   ],
   "source": [
    "fold_titanic['Parch'].unique()"
   ]
  },
  {
   "cell_type": "code",
   "execution_count": 14,
   "id": "5594a6ac",
   "metadata": {},
   "outputs": [
    {
     "data": {
      "text/plain": [
       "array(['C', 'S', 'Q'], dtype=object)"
      ]
     },
     "execution_count": 14,
     "metadata": {},
     "output_type": "execute_result"
    }
   ],
   "source": [
    "fold_titanic['Embarked'].unique()"
   ]
  },
  {
   "cell_type": "code",
   "execution_count": 8,
   "id": "fd3d45d9",
   "metadata": {},
   "outputs": [
    {
     "data": {
      "text/plain": [
       "array(['male', 'female'], dtype=object)"
      ]
     },
     "execution_count": 8,
     "metadata": {},
     "output_type": "execute_result"
    }
   ],
   "source": [
    "fold_titanic['Sex'].unique()"
   ]
  },
  {
   "cell_type": "markdown",
   "id": "2081fd7e",
   "metadata": {},
   "source": [
    "### EDA"
   ]
  },
  {
   "cell_type": "markdown",
   "id": "e21a3a58",
   "metadata": {},
   "source": [
    "#### 전반적인 생존 비율"
   ]
  },
  {
   "cell_type": "code",
   "execution_count": 3,
   "id": "52d8f491",
   "metadata": {},
   "outputs": [
    {
     "data": {
      "text/plain": [
       "0    0.616162\n",
       "1    0.383838\n",
       "Name: Survived, dtype: float64"
      ]
     },
     "execution_count": 3,
     "metadata": {},
     "output_type": "execute_result"
    }
   ],
   "source": [
    "fold_titanic['Survived'].value_counts(normalize=True)"
   ]
  },
  {
   "cell_type": "markdown",
   "id": "c7323d04",
   "metadata": {},
   "source": [
    "=> 생존률 약 40%를 기준으로 이상치가 있는지 살펴보자"
   ]
  },
  {
   "cell_type": "code",
   "execution_count": 4,
   "id": "0f5cde3e",
   "metadata": {},
   "outputs": [],
   "source": [
    "from matplotlib import font_manager, rc\n",
    "import matplotlib.pyplot as plt\n",
    "import platform\n",
    "\n",
    "#한글폰트 가져오기\n",
    "plt.rcParams['axes.unicode_minus']=False\n",
    "\n",
    "path = \"c:/Windows/Fonts/malgun.ttf\"\n",
    "font_name = font_manager.FontProperties(fname=path).get_name()\n",
    "rc('font', family=font_name)"
   ]
  },
  {
   "cell_type": "code",
   "execution_count": 5,
   "id": "52269092",
   "metadata": {},
   "outputs": [
    {
     "data": {
      "text/plain": [
       "Text(0.5, 1.0, 'SibSp')"
      ]
     },
     "execution_count": 5,
     "metadata": {},
     "output_type": "execute_result"
    },
    {
     "data": {
      "image/png": "[encoded data removed]",
      "text/plain": [
       "<Figure size 2000x1500 with 6 Axes>"
      ]
     },
     "metadata": {},
     "output_type": "display_data"
    }
   ],
   "source": [
    "import seaborn as sns\n",
    "fig, axes = plt.subplots(nrows=2, ncols=3, figsize=(20, 15))\n",
    "\n",
    "#성별과 생존\n",
    "sns.countplot(data=fold_titanic, x='Sex', hue='Survived', ax=axes[0,0])\n",
    "axes[0,0].set_title('성별과 생존')\n",
    "\n",
    "#나이별 생존\n",
    "sns.histplot(data=fold_titanic, x='Age', hue='Survived',ax=axes[0,1])\n",
    "axes[0,1].set_title('나이별 생존')\n",
    "\n",
    "#Parch\n",
    "sns.countplot(data=fold_titanic, x='Parch', hue='Survived', ax=axes[0,2])\n",
    "axes[0,2].set_title('Parch')\n",
    "\n",
    "#Emabarked C = Cherbourg, Q = Queenstown, S = Southampton\n",
    "sns.countplot(data=fold_titanic, x='Embarked', hue='Survived', ax=axes[1,0])\n",
    "axes[1,0].set_title('Embarked 생존')\n",
    "\n",
    "#Pclass\n",
    "sns.countplot(data=fold_titanic, x='Pclass', hue='Survived', ax=axes[1,1])\n",
    "axes[1,1].set_title('Pclass 생존')\n",
    "\n",
    "#SibSp\n",
    "sns.countplot(data=fold_titanic, x='SibSp', hue='Survived', ax=axes[1,2])\n",
    "axes[1,2].set_title('SibSp')\n"
   ]
  },
  {
   "cell_type": "markdown",
   "id": "524db9ca",
   "metadata": {},
   "source": [
    "#### 시사점\n",
    "- 남자에 비해 여자의 생존률이 더 높다\n",
    "- 나이가 아주 어리거나 아주 많은 경우 생존률이 높다\n",
    "- 형제자매나 배우자와 함께 탄 경우  생존률이 높다\n",
    "- 셰르부르에서 승선한 경우에 생존률이 가장 높다. 그 다음은 퀸스타운\n",
    "- 1등급 티켓 소유자가 가장 생존률이 높다. 등급은 높을수록 생존률이 좋음\n",
    "- 부모나 자녀 둘이 탄 경우가 생존률이 가장 높다. 너무 많으면 생존률이 적음"
   ]
  },
  {
   "cell_type": "markdown",
   "id": "bc66c718",
   "metadata": {},
   "source": [
    "### 데이터 정제"
   ]
  },
  {
   "cell_type": "markdown",
   "id": "b8fe94c2",
   "metadata": {},
   "source": [
    "**범주형 데이터 처리**"
   ]
  },
  {
   "cell_type": "code",
   "execution_count": 6,
   "id": "50b04c7b",
   "metadata": {},
   "outputs": [],
   "source": [
    "fold_titanic.loc[(fold_titanic['Sex']=='male'), 'Sex'] = 0\n",
    "fold_titanic.loc[(fold_titanic['Sex']=='female'), 'Sex'] = 1"
   ]
  },
  {
   "cell_type": "code",
   "execution_count": 7,
   "id": "b05cc07e",
   "metadata": {},
   "outputs": [
    {
     "data": {
      "text/plain": [
       "S    0.724409\n",
       "C    0.188976\n",
       "Q    0.086614\n",
       "Name: Embarked, dtype: float64"
      ]
     },
     "execution_count": 7,
     "metadata": {},
     "output_type": "execute_result"
    }
   ],
   "source": [
    "fold_titanic['Embarked'].value_counts(normalize=True)"
   ]
  },
  {
   "cell_type": "code",
   "execution_count": 8,
   "id": "2721e18a",
   "metadata": {},
   "outputs": [],
   "source": [
    "fold_titanic.loc[(fold_titanic['Embarked']=='S'), 'Embarked'] = 0.724409\n",
    "fold_titanic.loc[(fold_titanic['Embarked']=='C'), 'Embarked'] = 0.188976\n",
    "fold_titanic.loc[(fold_titanic['Embarked']=='Q'), 'Embarked'] = 0.086614"
   ]
  },
  {
   "cell_type": "code",
   "execution_count": 9,
   "id": "a498dbf2",
   "metadata": {},
   "outputs": [],
   "source": [
    "fold_titanic['Sex'] = fold_titanic['Sex'].astype(object).astype(int)\n",
    "fold_titanic['Embarked'] = fold_titanic['Embarked'].astype(object).astype(float)"
   ]
  },
  {
   "cell_type": "markdown",
   "id": "bff78db9",
   "metadata": {},
   "source": [
    "**필요한 컬럼만 선택**"
   ]
  },
  {
   "cell_type": "code",
   "execution_count": 10,
   "id": "651a6bfe",
   "metadata": {},
   "outputs": [],
   "source": [
    "titanic_pick = fold_titanic[[\"Pclass\",\"Sex\",\"Age\",\"SibSp\",\"Parch\",\"Fare\",\"Embarked\",\"Survived\"]]"
   ]
  },
  {
   "cell_type": "markdown",
   "id": "8b5d027c",
   "metadata": {},
   "source": [
    "**결측치 제거**"
   ]
  },
  {
   "cell_type": "code",
   "execution_count": 11,
   "id": "d6c4dc85",
   "metadata": {},
   "outputs": [],
   "source": [
    "titanic_pick=titanic_pick.dropna()"
   ]
  },
  {
   "cell_type": "markdown",
   "id": "a6f346e5",
   "metadata": {},
   "source": [
    "**인덱스 재설정**"
   ]
  },
  {
   "cell_type": "code",
   "execution_count": 12,
   "id": "541bbdc5",
   "metadata": {},
   "outputs": [],
   "source": [
    "titanic_pick.index=range(1,713)"
   ]
  },
  {
   "cell_type": "code",
   "execution_count": 13,
   "id": "1728f30c",
   "metadata": {},
   "outputs": [
    {
     "data": {
      "text/html": [
       "<div>\n",
       "<style scoped>\n",
       "    .dataframe tbody tr th:only-of-type {\n",
       "        vertical-align: middle;\n",
       "    }\n",
       "\n",
       "    .dataframe tbody tr th {\n",
       "        vertical-align: top;\n",
       "    }\n",
       "\n",
       "    .dataframe thead th {\n",
       "        text-align: right;\n",
       "    }\n",
       "</style>\n",
       "<table border=\"1\" class=\"dataframe\">\n",
       "  <thead>\n",
       "    <tr style=\"text-align: right;\">\n",
       "      <th></th>\n",
       "      <th>Pclass</th>\n",
       "      <th>Sex</th>\n",
       "      <th>Age</th>\n",
       "      <th>SibSp</th>\n",
       "      <th>Parch</th>\n",
       "      <th>Fare</th>\n",
       "      <th>Embarked</th>\n",
       "      <th>Survived</th>\n",
       "    </tr>\n",
       "  </thead>\n",
       "  <tbody>\n",
       "    <tr>\n",
       "      <th>1</th>\n",
       "      <td>3</td>\n",
       "      <td>0</td>\n",
       "      <td>22.0</td>\n",
       "      <td>1</td>\n",
       "      <td>0</td>\n",
       "      <td>7.2500</td>\n",
       "      <td>0.724409</td>\n",
       "      <td>0</td>\n",
       "    </tr>\n",
       "    <tr>\n",
       "      <th>2</th>\n",
       "      <td>1</td>\n",
       "      <td>1</td>\n",
       "      <td>38.0</td>\n",
       "      <td>1</td>\n",
       "      <td>0</td>\n",
       "      <td>71.2833</td>\n",
       "      <td>0.188976</td>\n",
       "      <td>1</td>\n",
       "    </tr>\n",
       "    <tr>\n",
       "      <th>3</th>\n",
       "      <td>3</td>\n",
       "      <td>1</td>\n",
       "      <td>26.0</td>\n",
       "      <td>0</td>\n",
       "      <td>0</td>\n",
       "      <td>7.9250</td>\n",
       "      <td>0.724409</td>\n",
       "      <td>1</td>\n",
       "    </tr>\n",
       "    <tr>\n",
       "      <th>4</th>\n",
       "      <td>1</td>\n",
       "      <td>1</td>\n",
       "      <td>35.0</td>\n",
       "      <td>1</td>\n",
       "      <td>0</td>\n",
       "      <td>53.1000</td>\n",
       "      <td>0.724409</td>\n",
       "      <td>1</td>\n",
       "    </tr>\n",
       "    <tr>\n",
       "      <th>5</th>\n",
       "      <td>3</td>\n",
       "      <td>0</td>\n",
       "      <td>35.0</td>\n",
       "      <td>0</td>\n",
       "      <td>0</td>\n",
       "      <td>8.0500</td>\n",
       "      <td>0.724409</td>\n",
       "      <td>0</td>\n",
       "    </tr>\n",
       "    <tr>\n",
       "      <th>...</th>\n",
       "      <td>...</td>\n",
       "      <td>...</td>\n",
       "      <td>...</td>\n",
       "      <td>...</td>\n",
       "      <td>...</td>\n",
       "      <td>...</td>\n",
       "      <td>...</td>\n",
       "      <td>...</td>\n",
       "    </tr>\n",
       "    <tr>\n",
       "      <th>708</th>\n",
       "      <td>3</td>\n",
       "      <td>1</td>\n",
       "      <td>39.0</td>\n",
       "      <td>0</td>\n",
       "      <td>5</td>\n",
       "      <td>29.1250</td>\n",
       "      <td>0.086614</td>\n",
       "      <td>0</td>\n",
       "    </tr>\n",
       "    <tr>\n",
       "      <th>709</th>\n",
       "      <td>2</td>\n",
       "      <td>0</td>\n",
       "      <td>27.0</td>\n",
       "      <td>0</td>\n",
       "      <td>0</td>\n",
       "      <td>13.0000</td>\n",
       "      <td>0.724409</td>\n",
       "      <td>0</td>\n",
       "    </tr>\n",
       "    <tr>\n",
       "      <th>710</th>\n",
       "      <td>1</td>\n",
       "      <td>1</td>\n",
       "      <td>19.0</td>\n",
       "      <td>0</td>\n",
       "      <td>0</td>\n",
       "      <td>30.0000</td>\n",
       "      <td>0.724409</td>\n",
       "      <td>1</td>\n",
       "    </tr>\n",
       "    <tr>\n",
       "      <th>711</th>\n",
       "      <td>1</td>\n",
       "      <td>0</td>\n",
       "      <td>26.0</td>\n",
       "      <td>0</td>\n",
       "      <td>0</td>\n",
       "      <td>30.0000</td>\n",
       "      <td>0.188976</td>\n",
       "      <td>1</td>\n",
       "    </tr>\n",
       "    <tr>\n",
       "      <th>712</th>\n",
       "      <td>3</td>\n",
       "      <td>0</td>\n",
       "      <td>32.0</td>\n",
       "      <td>0</td>\n",
       "      <td>0</td>\n",
       "      <td>7.7500</td>\n",
       "      <td>0.086614</td>\n",
       "      <td>0</td>\n",
       "    </tr>\n",
       "  </tbody>\n",
       "</table>\n",
       "<p>712 rows × 8 columns</p>\n",
       "</div>"
      ],
      "text/plain": [
       "     Pclass  Sex   Age  SibSp  Parch     Fare  Embarked  Survived\n",
       "1         3    0  22.0      1      0   7.2500  0.724409         0\n",
       "2         1    1  38.0      1      0  71.2833  0.188976         1\n",
       "3         3    1  26.0      0      0   7.9250  0.724409         1\n",
       "4         1    1  35.0      1      0  53.1000  0.724409         1\n",
       "5         3    0  35.0      0      0   8.0500  0.724409         0\n",
       "..      ...  ...   ...    ...    ...      ...       ...       ...\n",
       "708       3    1  39.0      0      5  29.1250  0.086614         0\n",
       "709       2    0  27.0      0      0  13.0000  0.724409         0\n",
       "710       1    1  19.0      0      0  30.0000  0.724409         1\n",
       "711       1    0  26.0      0      0  30.0000  0.188976         1\n",
       "712       3    0  32.0      0      0   7.7500  0.086614         0\n",
       "\n",
       "[712 rows x 8 columns]"
      ]
     },
     "execution_count": 13,
     "metadata": {},
     "output_type": "execute_result"
    }
   ],
   "source": [
    "titanic_pick"
   ]
  },
  {
   "cell_type": "code",
   "execution_count": 14,
   "id": "ce409e0d",
   "metadata": {},
   "outputs": [
    {
     "name": "stdout",
     "output_type": "stream",
     "text": [
      "<class 'pandas.core.frame.DataFrame'>\n",
      "RangeIndex: 712 entries, 1 to 712\n",
      "Data columns (total 8 columns):\n",
      " #   Column    Non-Null Count  Dtype  \n",
      "---  ------    --------------  -----  \n",
      " 0   Pclass    712 non-null    int64  \n",
      " 1   Sex       712 non-null    int32  \n",
      " 2   Age       712 non-null    float64\n",
      " 3   SibSp     712 non-null    int64  \n",
      " 4   Parch     712 non-null    int64  \n",
      " 5   Fare      712 non-null    float64\n",
      " 6   Embarked  712 non-null    float64\n",
      " 7   Survived  712 non-null    int64  \n",
      "dtypes: float64(3), int32(1), int64(4)\n",
      "memory usage: 41.8 KB\n"
     ]
    }
   ],
   "source": [
    "titanic_pick.info()"
   ]
  },
  {
   "cell_type": "markdown",
   "id": "ce7e105b",
   "metadata": {},
   "source": [
    "**features X와 label y를 나누기**"
   ]
  },
  {
   "cell_type": "code",
   "execution_count": 15,
   "id": "5f6e93c9",
   "metadata": {},
   "outputs": [],
   "source": [
    "features = titanic_pick[['Pclass','Sex','Age','SibSp','Parch','Fare','Embarked']]\n",
    "label = titanic_pick[['Survived']]"
   ]
  },
  {
   "cell_type": "code",
   "execution_count": 16,
   "id": "b18f71a8",
   "metadata": {},
   "outputs": [],
   "source": [
    "X_train, X_test, y_train, y_test = train_test_split(features, label, test_size = 0.2, random_state=111)"
   ]
  },
  {
   "cell_type": "code",
   "execution_count": 17,
   "id": "bc2dbae8",
   "metadata": {},
   "outputs": [],
   "source": [
    "model = DecisionTreeClassifier()\n",
    "model_sp1 = DecisionTreeClassifier(random_state=111, max_depth=3)\n",
    "model.fit(X_train, y_train) #모델학습\n",
    "model_sp1.fit(X_train, y_train) #모델학습\n",
    "pred_train = model.predict(X_train) #결정트리 train예측\n",
    "pred_test = model.predict(X_test)#test 예측\n",
    "\n",
    "pred_train_sp = model_sp1.predict(X_train) #결정트리 깊이제한 train예측\n",
    "pred_test_sp = model_sp1.predict(X_test) #test예측"
   ]
  },
  {
   "cell_type": "code",
   "execution_count": 18,
   "id": "2298ee44",
   "metadata": {},
   "outputs": [
    {
     "name": "stdout",
     "output_type": "stream",
     "text": [
      "0.9859402460456942\n",
      "0.7832167832167832\n"
     ]
    }
   ],
   "source": [
    "print(accuracy_score(y_train, pred_train)) #훈련데이터 예측 정확도\n",
    "print(accuracy_score(y_test, pred_test)) #테스트데이터 예측 정확도"
   ]
  },
  {
   "cell_type": "markdown",
   "id": "1a3ec842",
   "metadata": {},
   "source": [
    "- 훈련데이터의 정확도가 테스트 데이터의 정확도보다 높다\n",
    "  -> 과적합"
   ]
  },
  {
   "cell_type": "code",
   "execution_count": 19,
   "id": "0b149c60",
   "metadata": {},
   "outputs": [
    {
     "name": "stdout",
     "output_type": "stream",
     "text": [
      "0.8224956063268892\n",
      "0.8111888111888111\n"
     ]
    }
   ],
   "source": [
    "#결정트리의 깊이를 제한한 훈련의 정확도\n",
    "print(accuracy_score(y_train, pred_train_sp))\n",
    "print(accuracy_score(y_test, pred_test_sp))"
   ]
  },
  {
   "cell_type": "markdown",
   "id": "1e453193",
   "metadata": {},
   "source": [
    "- 훈련데이터의 정확도가 감소했으나 테스트 데이터의 정확도가 올라갔다\n",
    "- 훈련데이터와 테스트데이터의 예측 정확도 차이가 크지 않다\n",
    "- 과적합이 해소되었다"
   ]
  },
  {
   "cell_type": "markdown",
   "id": "4fdb3b4e",
   "metadata": {},
   "source": [
    "### 교차검증 추가하기"
   ]
  },
  {
   "cell_type": "code",
   "execution_count": 20,
   "id": "119c7e69",
   "metadata": {},
   "outputs": [],
   "source": [
    "from sklearn.model_selection import KFold\n",
    "\n",
    "kfold = KFold(n_splits=5) #데이터셋 분리\n",
    "\n",
    "cv_accuracy_train = []\n",
    "cv_accuracy_test = []\n",
    "kf_model = DecisionTreeClassifier(random_state=111,max_depth=3)"
   ]
  },
  {
   "cell_type": "code",
   "execution_count": 21,
   "id": "266ff948",
   "metadata": {},
   "outputs": [
    {
     "data": {
      "text/plain": [
       "KFold(n_splits=5, random_state=None, shuffle=False)"
      ]
     },
     "execution_count": 21,
     "metadata": {},
     "output_type": "execute_result"
    }
   ],
   "source": [
    "kfold"
   ]
  },
  {
   "cell_type": "code",
   "execution_count": 22,
   "id": "1e75186e",
   "metadata": {},
   "outputs": [
    {
     "name": "stdout",
     "output_type": "stream",
     "text": [
      "\n",
      "1 번 train 교차 검증 정확도 :0.8172 ,test 교차 검증 정확도 :0.8182 \n",
      "\n",
      "2 번 train 교차 검증 정확도 :0.8102 ,test 교차 검증 정확도 :0.7972 \n",
      "\n",
      "3 번 train 교차 검증 정확도 :0.8281 ,test 교차 검증 정확도 :0.7887 \n",
      "\n",
      "4 번 train 교차 검증 정확도 :0.8333 ,test 교차 검증 정확도 :0.7676 \n",
      "\n",
      "5 번 train 교차 검증 정확도 :0.807 ,test 교차 검증 정확도 :0.8028 \n",
      "train 평균 정확도 0.8191600000000001\n",
      "test 평균 정확도 0.7948999999999999\n"
     ]
    }
   ],
   "source": [
    "n_iter = 0 #5번 진행하니 초깃값 설정\n",
    "\n",
    "for train_idx, test_idx in kfold.split(features):\n",
    "    X_train, X_test = features.iloc[train_idx], features.iloc[test_idx]\n",
    "    y_train, y_test = label.iloc[train_idx], label.iloc[test_idx]\n",
    "    \n",
    "    #학습을 위해서 dt배우기\n",
    "    kf_model.fit(X_train, y_train)\n",
    "    #예측\n",
    "    kf_pred_train = kf_model.predict(X_train)\n",
    "    df_pred_test = kf_model.predict(X_test)\n",
    "    \n",
    "    #정확도를 5번 측정하면서 값에 넣을 것이니\n",
    "    n_iter +=1\n",
    "    accuracy_train = np.round(accuracy_score(y_train, kf_pred_train),4)\n",
    "    accuracy_test = np.round(accuracy_score(y_test, df_pred_test),4)\n",
    "    \n",
    "    print('\\n{} 번 train 교차 검증 정확도 :{} ,test 교차 검증 정확도 :{} '.format(n_iter,accuracy_train, accuracy_test))\n",
    "    \n",
    "    cv_accuracy_train.append(accuracy_train)\n",
    "    cv_accuracy_test.append(accuracy_test)\n",
    "    \n",
    "print('train 평균 정확도',np.mean(cv_accuracy_train))\n",
    "print('test 평균 정확도',np.mean(cv_accuracy_test))"
   ]
  },
  {
   "cell_type": "markdown",
   "id": "f1e9ba9e",
   "metadata": {},
   "source": [
    "### Skf 모델 진행\n",
    "- kfold 문제점은?\n",
    "- 정답 라벨이 0,1,2 총 3개 -> Kfold는 랜덤하게 데이터를 추출하기 때문에 정답 비중이 고르게 분포하지 않을 수 있다\n",
    "- 그러다보니 정답레이블이 불균형 또는 다중분류인 경우는 SKF를 통해서 정답 라벨 불균형을 해소"
   ]
  },
  {
   "cell_type": "code",
   "execution_count": 25,
   "id": "f043be8a",
   "metadata": {},
   "outputs": [],
   "source": [
    "from sklearn.model_selection import StratifiedKFold\n",
    "\n",
    "skf_titanic = StratifiedKFold(n_splits=3)\n",
    "cnt_iter=0"
   ]
  },
  {
   "cell_type": "code",
   "execution_count": 26,
   "id": "2fa7dd1d",
   "metadata": {},
   "outputs": [
    {
     "data": {
      "text/plain": [
       "StratifiedKFold(n_splits=3, random_state=None, shuffle=False)"
      ]
     },
     "execution_count": 26,
     "metadata": {},
     "output_type": "execute_result"
    }
   ],
   "source": [
    "skf_titanic"
   ]
  },
  {
   "cell_type": "code",
   "execution_count": 27,
   "id": "bd0666bd",
   "metadata": {},
   "outputs": [
    {
     "name": "stdout",
     "output_type": "stream",
     "text": [
      "\n",
      "1 번 train 교차 검증 정확도 :0.8291 ,test 교차 검증 정확도 :0.7521 \n",
      "\n",
      "2 번 train 교차 검증 정확도 :0.8232 ,test 교차 검증 정확도 :0.7932 \n",
      "\n",
      "3 번 train 교차 검증 정확도 :0.8316 ,test 교차 검증 정확도 :0.827 \n",
      "train 평균 정확도 0.8279666666666666\n",
      "test 평균 정확도 0.7907666666666667\n"
     ]
    }
   ],
   "source": [
    "n_iter=0\n",
    "\n",
    "skf_cv_accuracy_train = []\n",
    "skf_cv_accuracy_test = []\n",
    "skf_model = DecisionTreeClassifier(random_state=111, max_depth=3)\n",
    "\n",
    "for train_idx, test_idx in skf_titanic.split(features, label):\n",
    "    X_train, X_test = features.iloc[train_idx], features.iloc[test_idx]\n",
    "    y_train, y_test = label.iloc[train_idx], label.iloc[test_idx]\n",
    "    \n",
    "    #학습을 위해서 dt배우기\n",
    "    skf_model.fit(X_train, y_train)\n",
    "    #예측\n",
    "    skf_pred_train = skf_model.predict(X_train)\n",
    "    skf_pred_test = skf_model.predict(X_test)\n",
    "    \n",
    "    #정확도를 5번 측정하면서 값에 넣을 것이니\n",
    "    n_iter +=1\n",
    "    accuracy_train = np.round(accuracy_score(y_train, skf_pred_train),4)\n",
    "    accuracy_test = np.round(accuracy_score(y_test, skf_pred_test),4)\n",
    "    \n",
    "    print('\\n{} 번 train 교차 검증 정확도 :{} ,test 교차 검증 정확도 :{} '.format(n_iter,accuracy_train, accuracy_test))\n",
    "    \n",
    "    skf_cv_accuracy_train.append(accuracy_train)\n",
    "    skf_cv_accuracy_test.append(accuracy_test)\n",
    "    \n",
    "print('train 평균 정확도',np.mean(skf_cv_accuracy_train))\n",
    "print('test 평균 정확도',np.mean(skf_cv_accuracy_test))"
   ]
  },
  {
   "cell_type": "code",
   "execution_count": 32,
   "id": "3908be9c",
   "metadata": {},
   "outputs": [
    {
     "name": "stdout",
     "output_type": "stream",
     "text": [
      "학습 정답 레이블 0    325\n",
      "1    244\n",
      "Name: Survived, dtype: int64\n",
      "학습 정답 레이블 0    99\n",
      "1    44\n",
      "Name: Survived, dtype: int64\n",
      "학습 정답 레이블 0    347\n",
      "1    222\n",
      "Name: Survived, dtype: int64\n",
      "학습 정답 레이블 0    77\n",
      "1    66\n",
      "Name: Survived, dtype: int64\n",
      "학습 정답 레이블 0    345\n",
      "1    225\n",
      "Name: Survived, dtype: int64\n",
      "학습 정답 레이블 0    79\n",
      "1    63\n",
      "Name: Survived, dtype: int64\n",
      "학습 정답 레이블 0    342\n",
      "1    228\n",
      "Name: Survived, dtype: int64\n",
      "학습 정답 레이블 0    82\n",
      "1    60\n",
      "Name: Survived, dtype: int64\n",
      "학습 정답 레이블 0    337\n",
      "1    233\n",
      "Name: Survived, dtype: int64\n",
      "학습 정답 레이블 0    87\n",
      "1    55\n",
      "Name: Survived, dtype: int64\n"
     ]
    }
   ],
   "source": [
    "kfold= KFold(n_splits=5) \n",
    "n_iter = 0\n",
    "\n",
    "for train_idx, test_idx in kfold.split(titanic_pick):\n",
    "    n_iter +=1\n",
    "    label_train = titanic_pick['Survived'].iloc[train_idx]\n",
    "    label_test = titanic_pick['Survived'].iloc[test_idx]\n",
    "    print('학습 정답 레이블', label_train.value_counts())\n",
    "    print('학습 정답 레이블', label_test.value_counts())"
   ]
  },
  {
   "cell_type": "code",
   "execution_count": 33,
   "id": "86c70114",
   "metadata": {},
   "outputs": [
    {
     "name": "stdout",
     "output_type": "stream",
     "text": [
      "학습 정답 레이블 0    282\n",
      "1    192\n",
      "Name: Survived, dtype: int64\n",
      "학습 정답 레이블 0    142\n",
      "1     96\n",
      "Name: Survived, dtype: int64\n",
      "학습 정답 레이블 0    283\n",
      "1    192\n",
      "Name: Survived, dtype: int64\n",
      "학습 정답 레이블 0    141\n",
      "1     96\n",
      "Name: Survived, dtype: int64\n",
      "학습 정답 레이블 0    283\n",
      "1    192\n",
      "Name: Survived, dtype: int64\n",
      "학습 정답 레이블 0    141\n",
      "1     96\n",
      "Name: Survived, dtype: int64\n"
     ]
    }
   ],
   "source": [
    "skf_titanic = StratifiedKFold(n_splits=3)\n",
    "n_iter=0\n",
    "\n",
    "for train_idx, test_idx in skf_titanic.split(titanic_pick,titanic_pick['Survived']):\n",
    "    n_iter +=1\n",
    "    label_train = titanic_pick['Survived'].iloc[train_idx]\n",
    "    label_test = titanic_pick['Survived'].iloc[test_idx]\n",
    "    print('학습 정답 레이블', label_train.value_counts())\n",
    "    print('학습 정답 레이블', label_test.value_counts())"
   ]
  },
  {
   "cell_type": "markdown",
   "id": "c6e04675",
   "metadata": {},
   "source": [
    "- Skfold나 kfold나 정답 레이블의 0 1 비율이 크게 다르지 않음\n",
    "- Skfold가 과적합을 해소하지는 못함\n",
    "- 정확도 순서: 깊이제한이 있는 결정트리 > kfold = Skfold > 깊이 제한이 없는 결정트리"
   ]
  },
  {
   "cell_type": "code",
   "execution_count": null,
   "id": "b7d41d0f",
   "metadata": {},
   "outputs": [],
   "source": []
  }
 ],
 "metadata": {
  "kernelspec": {
   "display_name": "Python 3 (ipykernel)",
   "language": "python",
   "name": "python3"
  },
  "language_info": {
   "codemirror_mode": {
    "name": "ipython",
    "version": 3
   },
   "file_extension": ".py",
   "mimetype": "text/x-python",
   "name": "python",
   "nbconvert_exporter": "python",
   "pygments_lexer": "ipython3",
   "version": "3.10.9"
  }
 },
 "nbformat": 4,
 "nbformat_minor": 5
}
